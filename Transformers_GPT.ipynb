{
  "nbformat": 4,
  "nbformat_minor": 0,
  "metadata": {
    "colab": {
      "provenance": [],
      "authorship_tag": "ABX9TyNyGKzrWKws58mQZChcqqkQ",
      "include_colab_link": true
    },
    "kernelspec": {
      "name": "python3",
      "display_name": "Python 3"
    },
    "language_info": {
      "name": "python"
    }
  },
  "cells": [
    {
      "cell_type": "markdown",
      "metadata": {
        "id": "view-in-github",
        "colab_type": "text"
      },
      "source": [
        "<a href=\"https://colab.research.google.com/github/mnida/paper-implementation/blob/main/Transformers_GPT.ipynb\" target=\"_parent\"><img src=\"https://colab.research.google.com/assets/colab-badge.svg\" alt=\"Open In Colab\"/></a>"
      ]
    },
    {
      "cell_type": "code",
      "source": [
        "!pip install einop fancy_einsum"
      ],
      "metadata": {
        "colab": {
          "base_uri": "https://localhost:8080/"
        },
        "id": "DGqv05rboi8j",
        "outputId": "f3990ac9-21cb-43c9-df9e-90c1e4c24aff"
      },
      "execution_count": 3,
      "outputs": [
        {
          "output_type": "stream",
          "name": "stdout",
          "text": [
            "Collecting einop\n",
            "  Downloading einop-0.0.1-py3-none-any.whl (3.0 kB)\n",
            "Collecting fancy_einsum\n",
            "  Downloading fancy_einsum-0.0.3-py3-none-any.whl (6.2 kB)\n",
            "Requirement already satisfied: einops>=0.4.0 in /usr/local/lib/python3.10/dist-packages (from einop) (0.7.0)\n",
            "Installing collected packages: fancy_einsum, einop\n",
            "Successfully installed einop-0.0.1 fancy_einsum-0.0.3\n"
          ]
        }
      ]
    },
    {
      "cell_type": "code",
      "source": [
        "import torch\n",
        "import numpy as np\n",
        "from functools import partial\n",
        "from typing import List, Optional, Union\n",
        "import einops\n",
        "from fancy_einsum import einsum\n"
      ],
      "metadata": {
        "id": "xxStzi9B6WaD"
      },
      "execution_count": 4,
      "outputs": []
    },
    {
      "cell_type": "code",
      "source": [],
      "metadata": {
        "id": "2nagMno06e-b"
      },
      "execution_count": null,
      "outputs": []
    },
    {
      "cell_type": "code",
      "source": [],
      "metadata": {
        "id": "xvTbaI7k6fOR"
      },
      "execution_count": null,
      "outputs": []
    }
  ]
}